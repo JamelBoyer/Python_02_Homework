{
 "cells": [
  {
   "cell_type": "code",
   "execution_count": 1,
   "metadata": {},
   "outputs": [],
   "source": [
    "import csv\n",
    "from pathlib import Path "
   ]
  },
  {
   "cell_type": "code",
   "execution_count": 2,
   "metadata": {},
   "outputs": [],
   "source": [
    "#cache of data\n",
    "\n",
    "data = []\n",
    "\n"
   ]
  },
  {
   "cell_type": "code",
   "execution_count": 3,
   "metadata": {},
   "outputs": [
    {
     "name": "stdout",
     "output_type": "stream",
     "text": [
      "[['Jan-2010', 867884.0], ['Feb-2010', 984655.0], ['Mar-2010', 322013.0], ['Apr-2010', -69417.0], ['May-2010', 310503.0], ['Jun-2010', 522857.0], ['Jul-2010', 1033096.0], ['Aug-2010', 604885.0], ['Sep-2010', -216386.0], ['Oct-2010', 477532.0], ['Nov-2010', 893810.0], ['Dec-2010', -80353.0], ['Jan-2011', 779806.0], ['Feb-2011', -335203.0], ['Mar-2011', 697845.0], ['Apr-2011', 793163.0], ['May-2011', 485070.0], ['Jun-2011', 584122.0], ['Jul-2011', 62729.0], ['Aug-2011', 668179.0], ['Sep-2011', 899906.0], ['Oct-2011', 834719.0], ['Nov-2011', 132003.0], ['Dec-2011', 309978.0], ['Jan-2012', -755566.0], ['Feb-2012', 1170593.0], ['Mar-2012', 252788.0], ['Apr-2012', 1151518.0], ['May-2012', 817256.0], ['Jun-2012', 570757.0], ['Jul-2012', 506702.0], ['Aug-2012', -1022534.0], ['Sep-2012', 475062.0], ['Oct-2012', 779976.0], ['Nov-2012', 144175.0], ['Dec-2012', 542494.0], ['Jan-2013', 359333.0], ['Feb-2013', 321469.0], ['Mar-2013', 67780.0], ['Apr-2013', 471435.0], ['May-2013', 565603.0], ['Jun-2013', 872480.0], ['Jul-2013', 789480.0], ['Aug-2013', 999942.0], ['Sep-2013', -1196225.0], ['Oct-2013', 268997.0], ['Nov-2013', -687986.0], ['Dec-2013', 1150461.0], ['Jan-2014', 682458.0], ['Feb-2014', 617856.0], ['Mar-2014', 824098.0], ['Apr-2014', 581943.0], ['May-2014', 132864.0], ['Jun-2014', 448062.0], ['Jul-2014', 689161.0], ['Aug-2014', 800701.0], ['Sep-2014', 1166643.0], ['Oct-2014', 947333.0], ['Nov-2014', 578668.0], ['Dec-2014', 988505.0], ['Jan-2015', 1139715.0], ['Feb-2015', 1029471.0], ['Mar-2015', 687533.0], ['Apr-2015', -524626.0], ['May-2015', 158620.0], ['Jun-2015', 87795.0], ['Jul-2015', 423389.0], ['Aug-2015', 840723.0], ['Sep-2015', 568529.0], ['Oct-2015', 332067.0], ['Nov-2015', 989499.0], ['Dec-2015', 778237.0], ['Jan-2016', 650000.0], ['Feb-2016', -1100387.0], ['Mar-2016', -174946.0], ['Apr-2016', 757143.0], ['May-2016', 445709.0], ['Jun-2016', 712961.0], ['Jul-2016', -1163797.0], ['Aug-2016', 569899.0], ['Sep-2016', 768450.0], ['Oct-2016', 102685.0], ['Nov-2016', 795914.0], ['Dec-2016', 60988.0], ['Jan-2017', 138230.0], ['Feb-2017', 671099.0]]\n"
     ]
    }
   ],
   "source": [
    "\n",
    "csv_file=Path(\"PyBank/Resources/budget_data.csv\")\n",
    "with open(csv_file,\"r\") as file:\n",
    "    csv_reader=csv.reader(file)\n",
    "    header=next(csv_reader)\n",
    "    \n",
    "    for row in csv_reader:\n",
    "        row[1] = float(row[1])\n",
    "        data.append(row)\n",
    "print(data)"
   ]
  },
  {
   "cell_type": "code",
   "execution_count": 4,
   "metadata": {},
   "outputs": [
    {
     "data": {
      "text/plain": [
       "86"
      ]
     },
     "execution_count": 4,
     "metadata": {},
     "output_type": "execute_result"
    }
   ],
   "source": [
    "total_months = len(data)\n",
    "\n",
    "total_monthsgit "
   ]
  },
  {
   "cell_type": "code",
   "execution_count": 5,
   "metadata": {},
   "outputs": [
    {
     "data": {
      "text/plain": [
       "38382578.0"
      ]
     },
     "execution_count": 5,
     "metadata": {},
     "output_type": "execute_result"
    }
   ],
   "source": [
    "total = 0\n",
    "change = []\n",
    "\n",
    "for i in range(total_months): # range takes an numeric value\n",
    "    total +=data[i][1] \n",
    "    if i != 0:\n",
    "        change.append( data[i][1]-data[i-1][1] )\n",
    "        print\n",
    "total\n",
    "\n",
    "\n"
   ]
  },
  {
   "cell_type": "code",
   "execution_count": 6,
   "metadata": {},
   "outputs": [
    {
     "data": {
      "text/plain": [
       "-2288.1976744186045"
      ]
     },
     "execution_count": 6,
     "metadata": {},
     "output_type": "execute_result"
    }
   ],
   "source": [
    "sum(change) / total_months"
   ]
  },
  {
   "cell_type": "code",
   "execution_count": 7,
   "metadata": {},
   "outputs": [
    {
     "name": "stdout",
     "output_type": "stream",
     "text": [
      "{'date': 'Feb-2012', 'change': 1926159.0}\n"
     ]
    }
   ],
   "source": [
    "min_change = {\"date\":None, \"change\":0}\n",
    "max_change = {\"date\":None, \"change\":0}\n",
    "\n",
    "for i in range(total_months):\n",
    "    if i == 0:\n",
    "        continue\n",
    "    current_close = data[i][1]\n",
    "    prev_close = data[i-1][1]\n",
    "    curr_date = data[i][0]\n",
    "    change = current_close - prev_close\n",
    "\n",
    "    if max_change[\"change\"] < change:\n",
    "        max_change[\"change\"] = change \n",
    "        max_change[\"date\"] = curr_date\n",
    "\n",
    "print(max_change)"
   ]
  },
  {
   "cell_type": "code",
   "execution_count": 8,
   "metadata": {},
   "outputs": [
    {
     "name": "stdout",
     "output_type": "stream",
     "text": [
      "{'date': 'Sep-2013', 'change': -2196167.0}\n"
     ]
    }
   ],
   "source": [
    "min_change = {\"date\":None, \"change\":0}\n",
    "max_change = {\"date\":None, \"change\":0}\n",
    "\n",
    "for i in range(total_months):\n",
    "    if i == 0:\n",
    "        continue\n",
    "    current_close = data[i][1]\n",
    "    prev_close = data[i-1][1]\n",
    "    curr_date = data[i][0]\n",
    "    change = current_close - prev_close\n",
    "\n",
    "    if min_change[\"change\"] > change:\n",
    "        min_change[\"change\"] = change\n",
    "        min_change[\"date\"] = curr_date\n",
    "\n",
    "print(min_change)"
   ]
  }
 ],
 "metadata": {
  "interpreter": {
   "hash": "818f98e3acb0f00ff33d89b131253f508694b5c991f8fbffa352bfaeafca2825"
  },
  "kernelspec": {
   "display_name": "Python 3.7.11 ('dev')",
   "language": "python",
   "name": "python3"
  },
  "language_info": {
   "codemirror_mode": {
    "name": "ipython",
    "version": 3
   },
   "file_extension": ".py",
   "mimetype": "text/x-python",
   "name": "python",
   "nbconvert_exporter": "python",
   "pygments_lexer": "ipython3",
   "version": "3.7.11"
  },
  "orig_nbformat": 4
 },
 "nbformat": 4,
 "nbformat_minor": 2
}
